{
  "nbformat": 4,
  "nbformat_minor": 0,
  "metadata": {
    "colab": {
      "name": "Tarefa1_RegressaoLinear.ipynb",
      "provenance": [],
      "collapsed_sections": [],
      "include_colab_link": true
    },
    "kernelspec": {
      "name": "python3",
      "display_name": "Python 3"
    },
    "language_info": {
      "name": "python"
    }
  },
  "cells": [
    {
      "cell_type": "markdown",
      "metadata": {
        "id": "view-in-github",
        "colab_type": "text"
      },
      "source": [
        "<a href=\"https://colab.research.google.com/github/alvaro-ribeiro98/DeepLearning/blob/main/Tarefa1_RegressaoLinear.ipynb\" target=\"_parent\"><img src=\"https://colab.research.google.com/assets/colab-badge.svg\" alt=\"Open In Colab\"/></a>"
      ]
    },
    {
      "cell_type": "markdown",
      "source": [
        "# Tarefa 1 - Regressão linear \n",
        "\n",
        "Nesta tarefa, vamos determinar os coeficientes de regressão linear de um conjunto de dados sintéticos. \n",
        "\n",
        "Para a avaliação, você deverá lançar no portal didático os coeficientes encontrados na tarefa correspondente. "
      ],
      "metadata": {
        "id": "Mi-Hxexqzl_T"
      }
    },
    {
      "cell_type": "code",
      "execution_count": 1,
      "metadata": {
        "id": "aaspnPZXzi_A"
      },
      "outputs": [],
      "source": [
        "import matplotlib.pyplot as plt\n",
        "\n",
        "\n",
        "from sklearn import linear_model\n",
        "from sklearn.metrics import mean_squared_error, r2_score\n",
        "import numpy as np  "
      ]
    },
    {
      "cell_type": "markdown",
      "source": [
        "## Carregamento dos dados"
      ],
      "metadata": {
        "id": "MwC-brV217ri"
      }
    },
    {
      "cell_type": "code",
      "source": [
        "!wget https://raw.githubusercontent.com/jsansao/idl/main/linreg_tp1.txt"
      ],
      "metadata": {
        "id": "ZGrLNbRG0nGx",
        "outputId": "ce83695a-7e83-459e-8727-9766d88456aa",
        "colab": {
          "base_uri": "https://localhost:8080/"
        }
      },
      "execution_count": 2,
      "outputs": [
        {
          "output_type": "stream",
          "name": "stdout",
          "text": [
            "--2022-08-30 00:30:01--  https://raw.githubusercontent.com/jsansao/idl/main/linreg_tp1.txt\n",
            "Resolving raw.githubusercontent.com (raw.githubusercontent.com)... 185.199.108.133, 185.199.109.133, 185.199.110.133, ...\n",
            "Connecting to raw.githubusercontent.com (raw.githubusercontent.com)|185.199.108.133|:443... connected.\n",
            "HTTP request sent, awaiting response... 200 OK\n",
            "Length: 37928 (37K) [text/plain]\n",
            "Saving to: ‘linreg_tp1.txt’\n",
            "\n",
            "linreg_tp1.txt      100%[===================>]  37.04K  --.-KB/s    in 0.001s  \n",
            "\n",
            "2022-08-30 00:30:01 (46.6 MB/s) - ‘linreg_tp1.txt’ saved [37928/37928]\n",
            "\n"
          ]
        }
      ]
    },
    {
      "cell_type": "markdown",
      "source": [
        "As três primeiras colunas são as variáveis indepententes (X1 a X3). A saída Y é a 4ª coluna. "
      ],
      "metadata": {
        "id": "LdcFieSk1T_C"
      }
    },
    {
      "cell_type": "code",
      "source": [
        "data = np.loadtxt(\"linreg_tp1.txt\",dtype=np.float64,delimiter=\",\")\n",
        "X = data[::,0:3]\n",
        "Y = data[::,-1:]\n",
        "\n",
        "data[:5,::] "
      ],
      "metadata": {
        "id": "RLZyZIQp05Pv",
        "outputId": "92a032fe-2ec5-41d4-f521-f779925fc3fa",
        "colab": {
          "base_uri": "https://localhost:8080/"
        }
      },
      "execution_count": 3,
      "outputs": [
        {
          "output_type": "execute_result",
          "data": {
            "text/plain": [
              "array([[ -1.13188136,  -1.57262392,  -1.17763949, -19.30164081],\n",
              "       [  0.17719212,  -0.43220621,   0.32099403,   2.77559109],\n",
              "       [ -1.33267487,  -0.14399947,  -0.57590304,  -8.00758927],\n",
              "       [ -0.64485483,   0.39745749,  -1.58883464, -14.72116161],\n",
              "       [ -0.29467787,  -0.09635825,   0.73525154,   7.34631713]])"
            ]
          },
          "metadata": {},
          "execution_count": 3
        }
      ]
    },
    {
      "cell_type": "markdown",
      "source": [
        "## Cálculo dos coeficientes:\n",
        "\n",
        "Você pode usar as bibliotecas do SKLearn ou o método do gradiente descente conforme a lição 1. \n",
        "\n",
        "(Opcional) Verifique o coeficiente de determinação."
      ],
      "metadata": {
        "id": "XTrwI4lV1-5Q"
      }
    },
    {
      "cell_type": "code",
      "source": [
        "regr= linear_model.LinearRegression()\n",
        "regr.fit(X,Y)\n",
        "\n",
        "print(\"Coeficientes: \",regr.coef_)\n",
        "print(\"Termo independente: \",regr.intercept_)"
      ],
      "metadata": {
        "id": "oNFrrEuT1vpY",
        "outputId": "71fd6ce5-d9cd-4524-e0df-b55d60451228",
        "colab": {
          "base_uri": "https://localhost:8080/"
        }
      },
      "execution_count": 4,
      "outputs": [
        {
          "output_type": "stream",
          "name": "stdout",
          "text": [
            "Coeficientes:  [[ 2.00411024  4.00053518 10.00122781]]\n",
            "Termo independente:  [1.0113226]\n"
          ]
        }
      ]
    }
  ]
}